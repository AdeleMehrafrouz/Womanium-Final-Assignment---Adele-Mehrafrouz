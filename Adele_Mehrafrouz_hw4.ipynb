{
 "cells": [
  {
   "cell_type": "markdown",
   "id": "48e7dba2",
   "metadata": {},
   "source": [
    "# Quantum Walk"
   ]
  },
  {
   "cell_type": "markdown",
   "id": "478a03b8",
   "metadata": {},
   "source": [
    "A quantum walk is a quantum analogue of the classical random walk. It leverages the principles of quantum superposition and interference to explore multiple paths simultaneously. This results in faster propagation and mixing times compared to classical random walks, making quantum walks a powerful tool for quantum computing and algorithms.\n",
    "\n",
    "In a discrete-time quantum walk, the walker moves across the vertices of a graph in discrete steps, governed by a unitary evolution. The walker's position is described by a probability amplitude, allowing it to be in a superposition of multiple positions at once. This behavior enables quantum walks to solve certain computational problems more efficiently than their classical counterparts."
   ]
  },
  {
   "cell_type": "markdown",
   "id": "c183c7c3",
   "metadata": {},
   "source": [
    "design the quantum walk operator for the case of a line with 16 nodes:"
   ]
  },
  {
   "cell_type": "code",
   "execution_count": 1,
   "id": "a730b68e",
   "metadata": {},
   "outputs": [],
   "source": [
    "from classiq import *\n",
    "size = 4 # number of qubits to represent 16 vertices"
   ]
  },
  {
   "cell_type": "code",
   "execution_count": 2,
   "id": "7ecb1a26",
   "metadata": {},
   "outputs": [],
   "source": [
    "#Prepares a qubit in the ∣−⟩ state\n",
    "@qfunc\n",
    "def prepare_minus(x: QBit):\n",
    "    X(x)\n",
    "    H(x)\n",
    "\n",
    "#Implements a conditional amplitude flip based on the input state.    \n",
    "@qfunc\n",
    "def diffuzer_oracle(aux: Output[QNum],x:QNum):\n",
    "    aux^=(x!=0)\n",
    "\n",
    "@qfunc\n",
    "def zero_diffuzer(x: QNum):\n",
    "    aux = QNum('aux')\n",
    "    allocate(1,aux)\n",
    "    within_apply(compute=lambda: prepare_minus(aux),\n",
    "              action=lambda: diffuzer_oracle)\n",
    "    \n",
    "    "
   ]
  },
  {
   "cell_type": "markdown",
   "id": "4166ad81",
   "metadata": {},
   "source": [
    "1. Quantum State Representation:\n",
    "The state of the quantum walk is typically represented as \n",
    "∣\n",
    "j\n",
    ",\n",
    "k\n",
    "⟩\n",
    ", where \n",
    "j\n",
    " denotes the current vertex and \n",
    "k\n",
    " represents the coin state, which helps determine the direction of the walk."
   ]
  },
  {
   "cell_type": "markdown",
   "id": "c0dab5b0",
   "metadata": {},
   "source": [
    "2.Coin Operator (\n",
    "C\n",
    "):\n",
    "The coin operator is used to create a superposition of possible directions in which the walker can move. it acts over the neighbors of the vertex and can be defined as:"
   ]
  },
  {
   "cell_type": "markdown",
   "id": "299dd431",
   "metadata": {},
   "source": [
    "\n",
    "$$C = \\sum_j |j\\rangle \\langle j | \\otimes \\left(2|\\partial_j\\rangle\\langle\\partial_j | - I\\right).$$\n"
   ]
  },
  {
   "cell_type": "markdown",
   "id": "9db49413",
   "metadata": {},
   "source": [
    "Here, \n",
    "∣\n",
    "∂\n",
    "j\n",
    "⟩\n",
    " represents the uniform superposition over the neighbors of vertex \n",
    "j\n",
    ", and \n",
    "I\n",
    " is the identity operator. This operator spreads the walker's state across its neighboring vertices."
   ]
  },
  {
   "cell_type": "markdown",
   "id": "07a4ab3a",
   "metadata": {},
   "source": [
    "3. Shift Operator (\n",
    "S\n",
    "):\n",
    "The shift operator is a bitwise-swap operator that swaps the position \n",
    "j\n",
    " with the coin state \n",
    "k\n",
    ".\n",
    "\n",
    "4. W Iteration:\n",
    "The \n",
    "W\n",
    " iteration is the combination of the coin operator and the shift operator. A single step of the quantum walk involves first applying the coin operator to introduce superposition and entanglement among neighboring vertices, and then applying the shift operator to update the walker's position based on the coin state."
   ]
  },
  {
   "cell_type": "code",
   "execution_count": 3,
   "id": "db8459d3",
   "metadata": {},
   "outputs": [],
   "source": [
    "def W_iteration(i:int,vertices: QNum, adjacent_vertices:QNum):\n",
    "    prob = [0]* (2**size)\n",
    "    if i == 0:\n",
    "        prob[i + 1] = 1.0\n",
    "    elif i == (2 ** size) - 1:\n",
    "        prob[i - 1] = 1.0\n",
    "    else:\n",
    "        prob[i - 1] = 0.5\n",
    "        prob[i + 1] = 0.5\n",
    "    print(f'State={i}, prob vec ={prob}')\n",
    "    \n",
    "    control(ctrl=vertices==i,\n",
    "            operand=lambda: within_apply(\n",
    "              compute= lambda: inplace_prepare_state(probabilities=prob, bound=0.01, target=adjacent_vertices),\n",
    "              action= lambda: zero_diffuzer(adjacent_vertices)))\n",
    "\n"
   ]
  },
  {
   "cell_type": "code",
   "execution_count": 4,
   "id": "baa5566b",
   "metadata": {},
   "outputs": [],
   "source": [
    "@qfunc \n",
    "def W_operator(vertices:QNum, adjacent_vertices: QNum):\n",
    "    for i in range(2**size):\n",
    "        W_iteration(i,vertices,adjacent_vertices)"
   ]
  },
  {
   "cell_type": "code",
   "execution_count": 5,
   "id": "fe93a0ba",
   "metadata": {},
   "outputs": [],
   "source": [
    "@qfunc\n",
    "def edge_oracle(res:Output[QBit], vertices: QNum, adjacent_vertices: QNum):\n",
    "    res |= (((vertices+adjacent_vertices)%2) ==1)"
   ]
  },
  {
   "cell_type": "code",
   "execution_count": 6,
   "id": "7af7c5b3",
   "metadata": {},
   "outputs": [],
   "source": [
    "@qfunc \n",
    "def bitwise_swap(x: QArray[QBit], y:QArray[QBit]):\n",
    "    repeat(count= x.len,\n",
    "      iteration= lambda i: SWAP(x[i],y[i]))"
   ]
  },
  {
   "cell_type": "code",
   "execution_count": 7,
   "id": "0f7b4db2",
   "metadata": {},
   "outputs": [],
   "source": [
    "@qfunc \n",
    "def S_operator(vertices:QNum, adjacent_vertices: QNum):\n",
    "    res = QNum('res')\n",
    "    edge_oracle(res,vertices,adjacent_vertices)\n",
    "    control(ctrl= res==1,\n",
    "        operand= lambda: bitwise_swap(vertices,adjacent_vertices))"
   ]
  },
  {
   "cell_type": "code",
   "execution_count": 8,
   "id": "9eb4041a",
   "metadata": {},
   "outputs": [
    {
     "name": "stdout",
     "output_type": "stream",
     "text": [
      "State=0, prob vec =[0, 1.0, 0, 0, 0, 0, 0, 0, 0, 0, 0, 0, 0, 0, 0, 0]\n",
      "State=1, prob vec =[0.5, 0, 0.5, 0, 0, 0, 0, 0, 0, 0, 0, 0, 0, 0, 0, 0]\n",
      "State=2, prob vec =[0, 0.5, 0, 0.5, 0, 0, 0, 0, 0, 0, 0, 0, 0, 0, 0, 0]\n",
      "State=3, prob vec =[0, 0, 0.5, 0, 0.5, 0, 0, 0, 0, 0, 0, 0, 0, 0, 0, 0]\n",
      "State=4, prob vec =[0, 0, 0, 0.5, 0, 0.5, 0, 0, 0, 0, 0, 0, 0, 0, 0, 0]\n",
      "State=5, prob vec =[0, 0, 0, 0, 0.5, 0, 0.5, 0, 0, 0, 0, 0, 0, 0, 0, 0]\n",
      "State=6, prob vec =[0, 0, 0, 0, 0, 0.5, 0, 0.5, 0, 0, 0, 0, 0, 0, 0, 0]\n",
      "State=7, prob vec =[0, 0, 0, 0, 0, 0, 0.5, 0, 0.5, 0, 0, 0, 0, 0, 0, 0]\n",
      "State=8, prob vec =[0, 0, 0, 0, 0, 0, 0, 0.5, 0, 0.5, 0, 0, 0, 0, 0, 0]\n",
      "State=9, prob vec =[0, 0, 0, 0, 0, 0, 0, 0, 0.5, 0, 0.5, 0, 0, 0, 0, 0]\n",
      "State=10, prob vec =[0, 0, 0, 0, 0, 0, 0, 0, 0, 0.5, 0, 0.5, 0, 0, 0, 0]\n",
      "State=11, prob vec =[0, 0, 0, 0, 0, 0, 0, 0, 0, 0, 0.5, 0, 0.5, 0, 0, 0]\n",
      "State=12, prob vec =[0, 0, 0, 0, 0, 0, 0, 0, 0, 0, 0, 0.5, 0, 0.5, 0, 0]\n",
      "State=13, prob vec =[0, 0, 0, 0, 0, 0, 0, 0, 0, 0, 0, 0, 0.5, 0, 0.5, 0]\n",
      "State=14, prob vec =[0, 0, 0, 0, 0, 0, 0, 0, 0, 0, 0, 0, 0, 0.5, 0, 0.5]\n",
      "State=15, prob vec =[0, 0, 0, 0, 0, 0, 0, 0, 0, 0, 0, 0, 0, 0, 1.0, 0]\n",
      "Opening: https://platform.classiq.io/circuit/21a5a0e4-3ba0-4a73-8a9a-57ce06a315d9?version=0.43.3\n"
     ]
    }
   ],
   "source": [
    "@qfunc \n",
    "def main(vertices:Output[QNum], adjacent_vertices:Output[QNum]):\n",
    "\n",
    "    allocate(size,vertices)\n",
    "    hadamard_transform(vertices)\n",
    "    allocate(size,adjacent_vertices)\n",
    "\n",
    "    W_operator(vertices,adjacent_vertices)\n",
    "    S_operator(vertices,adjacent_vertices)\n",
    "\n",
    "qmod = create_model(main)\n",
    "qprog = synthesize(qmod)\n",
    "show(qprog)"
   ]
  },
  {
   "cell_type": "code",
   "execution_count": null,
   "id": "19ff786d",
   "metadata": {},
   "outputs": [],
   "source": []
  },
  {
   "cell_type": "code",
   "execution_count": null,
   "id": "3387c114",
   "metadata": {},
   "outputs": [],
   "source": []
  }
 ],
 "metadata": {
  "kernelspec": {
   "display_name": "Python 3 (ipykernel)",
   "language": "python",
   "name": "python3"
  },
  "language_info": {
   "codemirror_mode": {
    "name": "ipython",
    "version": 3
   },
   "file_extension": ".py",
   "mimetype": "text/x-python",
   "name": "python",
   "nbconvert_exporter": "python",
   "pygments_lexer": "ipython3",
   "version": "3.9.6"
  }
 },
 "nbformat": 4,
 "nbformat_minor": 5
}
